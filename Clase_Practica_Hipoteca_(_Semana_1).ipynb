{
  "nbformat": 4,
  "nbformat_minor": 0,
  "metadata": {
    "colab": {
      "provenance": [],
      "authorship_tag": "ABX9TyNyrBMjpAUXFvkI001qeMHE",
      "include_colab_link": true
    },
    "kernelspec": {
      "name": "python3",
      "display_name": "Python 3"
    },
    "language_info": {
      "name": "python"
    }
  },
  "cells": [
    {
      "cell_type": "markdown",
      "metadata": {
        "id": "view-in-github",
        "colab_type": "text"
      },
      "source": [
        "<a href=\"https://colab.research.google.com/github/CamiloCarvajalAraya/Coding-Dojo-Practica_1/blob/main/Clase_Practica_Hipoteca_(_Semana_1).ipynb\" target=\"_parent\"><img src=\"https://colab.research.google.com/assets/colab-badge.svg\" alt=\"Open In Colab\"/></a>"
      ]
    },
    {
      "cell_type": "markdown",
      "source": [
        "# **EJERCICIO DE CALCULO DEL PAGO DE LA HIPOTECA ( PRACTICA)**"
      ],
      "metadata": {
        "id": "OQqyq2XNRZeY"
      }
    },
    {
      "cell_type": "markdown",
      "source": [
        "**1)** ¿ De cuanto sera el pago mensual de una hipoteca a 30 años ( 30 * 12 = 360 meses de plazo) con un capital de 400.000 dolares y un 3% ( Tasa de interes con comisiones incluidas)?"
      ],
      "metadata": {
        "id": "SG2lAskoMSw4"
      }
    },
    {
      "cell_type": "code",
      "source": [
        "p = 400000\n",
        "r = 0.03/12 \n",
        "n = (30*12)\n",
        "x = r*(1+r)**n\n",
        "y = ((1+r)**n)-1\n",
        "\n",
        "Pago_Mensual = (x/y)*p\n",
        "print(Pago_Mensual)\n",
        "\n"
      ],
      "metadata": {
        "colab": {
          "base_uri": "https://localhost:8080/"
        },
        "id": "GgEtqfesRvlo",
        "outputId": "e8a21a4c-08cf-4d7c-abc0-8520f96fae98"
      },
      "execution_count": 4,
      "outputs": [
        {
          "output_type": "stream",
          "name": "stdout",
          "text": [
            "1686.4161349178237\n"
          ]
        }
      ]
    },
    {
      "cell_type": "markdown",
      "source": [
        "2) ¿Cuánto es el pago mensual si la tasa de interés es del 6 %? (utilice la misma duracion del plazo y el mismo principio)"
      ],
      "metadata": {
        "id": "9S66AcwSerVI"
      }
    },
    {
      "cell_type": "code",
      "source": [
        "p = 400000\n",
        "r = 0.06/12 \n",
        "n = (30*12)\n",
        "x = r*(1+r)**n\n",
        "y = ((1+r)**n)-1\n",
        "\n",
        "Pago_Mensual = (x/y)*p\n",
        "print(Pago_Mensual)"
      ],
      "metadata": {
        "colab": {
          "base_uri": "https://localhost:8080/"
        },
        "id": "iULr7bxPe1kM",
        "outputId": "f92cddd8-c6bf-4b2f-df8d-e56063d8c02c"
      },
      "execution_count": 3,
      "outputs": [
        {
          "output_type": "stream",
          "name": "stdout",
          "text": [
            "2398.2021006110276\n"
          ]
        }
      ]
    }
  ]
}