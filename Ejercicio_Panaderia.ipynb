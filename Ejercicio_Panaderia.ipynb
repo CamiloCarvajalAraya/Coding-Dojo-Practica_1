{
  "nbformat": 4,
  "nbformat_minor": 0,
  "metadata": {
    "colab": {
      "provenance": [],
      "authorship_tag": "ABX9TyMM2bTXxF2IBOPtYxBSDZga",
      "include_colab_link": true
    },
    "kernelspec": {
      "name": "python3",
      "display_name": "Python 3"
    },
    "language_info": {
      "name": "python"
    }
  },
  "cells": [
    {
      "cell_type": "markdown",
      "metadata": {
        "id": "view-in-github",
        "colab_type": "text"
      },
      "source": [
        "<a href=\"https://colab.research.google.com/github/CamiloCarvajalAraya/Tareas-de-Bootcamps-Chile/blob/main/Ejercicio_Panaderia.ipynb\" target=\"_parent\"><img src=\"https://colab.research.google.com/assets/colab-badge.svg\" alt=\"Open In Colab\"/></a>"
      ]
    },
    {
      "cell_type": "markdown",
      "source": [
        "INTRODUCCION A NUMPY\n",
        "\n",
        "Para dirigir nuestra exploración por Python, usaremos un proyecto sencillo basado en datos. Supongamos unos jóvenes de un club de tecnología les pidió ayuda para analizar datos de su venta de pasteles.  Esperan reunir $200.  "
      ],
      "metadata": {
        "id": "24QEuqbXXDQ9"
      }
    },
    {
      "cell_type": "code",
      "execution_count": null,
      "metadata": {
        "id": "5jRsY4tEXCj2",
        "colab": {
          "base_uri": "https://localhost:8080/"
        },
        "outputId": "03db5a07-b10a-4107-e59e-7ce9b0dedca4"
      },
      "outputs": [
        {
          "output_type": "stream",
          "name": "stdout",
          "text": [
            "[ 2  1 10]\n",
            "[17 40  1]\n",
            "[34 40 10]\n",
            "[1.75 0.5  5.  ]\n",
            "[ 2  1 10  7]\n",
            "[ 2.   1.  10.   7.   4.5  3.   4.   9. ]\n",
            "[ 2.   1.  10.   7.   4.5  3.   4. ]\n",
            "[ 2.   1.  12.   7.   4.5  3.   4. ]\n",
            "[ 2.   1.  12.   7.   4.5  3.   4. ]\n",
            "[17 40  1]\n",
            "[17 40  1  2  3 16  5]\n",
            "[17 39  1  2  3 16  5]\n",
            "[34.  39.  12.  14.  13.5 48.  20. ]\n",
            "[ 0.   0.  12.   3.5 13.5  0.   4. ]\n",
            "[34.  39.  24.  17.5 27.  48.  24. ]\n",
            "213.5\n"
          ]
        }
      ],
      "source": [
        "Lista_Precio = [2,1,10] # Precios de Brownie- Galleta - Pastel\n",
        "Lista_Cantidad = [17, 40 , 1]\n",
        "Costo_Producto = [0.25,0.50,5.00] \n",
        "\n",
        "import numpy as np # El siguiente codigo sirve para importar la biblioteca Numpy.\n",
        "\n",
        "Lista_Precio_Array = np.array(Lista_Precio)\n",
        "Lista_Cantidad_Array = np.array(Lista_Cantidad)\n",
        "print(Lista_Precio_Array)\n",
        "print(Lista_Cantidad_Array)\n",
        "Ventas_Totales_1 = Lista_Precio_Array * Lista_Cantidad_Array\n",
        "print(Ventas_Totales_1)\n",
        "Costo_Producto_Array = np.array(Costo_Producto)\n",
        "Utilidad_Unitaria = Lista_Precio_Array - Costo_Producto_Array\n",
        "print(Utilidad_Unitaria)\n",
        "\n",
        "Lista_Precio_Array = np.append(Lista_Precio_Array,7) # Procedimiento para agregar el Precio ($7) de una tarta.\n",
        "print(Lista_Precio_Array)\n",
        "\n",
        "Lista_Precio_Array = np.append(Lista_Precio_Array,[4.50,3,4,9]) # Procedimiento para agregar el precio de Dulces- Magdalena- Pan- Torta\n",
        "print(Lista_Precio_Array)\n",
        "\n",
        "Lista_Precio_Array = np.delete(Lista_Precio_Array,-1) # Se eliminan las tortas\n",
        "print(Lista_Precio_Array)\n",
        "\n",
        "Lista_Precio_Array[2] = 12\n",
        "print(Lista_Precio_Array)\n",
        "\n",
        "#Hagamos un resumen de las arrays que utilizaremos:\n",
        "\n",
        "Lista_Precio_Array\n",
        "print(Lista_Precio_Array) # Precios de Brownie- Galleta - Pastel - Tarta-Dulces- Magdalena- Pan\n",
        "Lista_Cantidad_Array\n",
        "print(Lista_Cantidad_Array)\n",
        "\n",
        "# Etapa N°2\n",
        "\n",
        "Lista_Cantidad_Array_Actualizada = np.append(Lista_Cantidad_Array,[2,3,16,5])\n",
        "print(Lista_Cantidad_Array_Actualizada)\n",
        "Lista_Cantidad_Array_Actualizada[1]= 39\n",
        "print(Lista_Cantidad_Array_Actualizada) \n",
        "\n",
        "# Etapa N°3\n",
        "\n",
        "Ventas_Totales_2 = Lista_Cantidad_Array_Actualizada * Lista_Precio_Array\n",
        "print(Ventas_Totales_2)\n",
        "\n",
        "# Etapa 4\n",
        "\n",
        "Inventario = [0,0,2,1,6,0,2]\n",
        "Inventario_Array = np.array(Inventario)\n",
        "\n",
        "# Etapa 5\n",
        "\n",
        "\n",
        "Liquidacion_Array = (Lista_Precio_Array /2) * (Inventario_Array)\n",
        "print(Liquidacion_Array)\n",
        "\n",
        "#Etapa 6\n",
        "\n",
        "\n",
        "Venta_Totales_3 = Ventas_Totales_2 + Liquidacion_Array\n",
        "print(Venta_Totales_3)\n",
        "\n",
        "Venta_Totales_4 = np.sum(Venta_Totales_3)\n",
        "print(Venta_Totales_4)\n",
        "\n",
        "\n",
        "\n",
        "\n",
        "\n",
        "\n",
        "\n",
        "\n",
        "\n",
        "\n",
        "\n",
        "\n",
        "\n",
        "\n",
        "\n",
        "\n",
        "\n",
        "\n",
        "\n",
        "\n",
        "\n",
        "\n",
        "\n",
        "\n",
        "\n",
        "\n",
        "\n",
        "\n",
        "\n",
        "\n",
        "\n",
        "\n",
        "\n",
        "\n",
        "\n",
        "\n",
        "\n",
        "\n",
        "\n",
        "\n",
        "\n",
        "\n",
        "\n",
        "\n",
        "\n",
        "\n",
        "\n",
        "\n",
        "\n",
        "\n",
        "\n",
        "\n"
      ]
    }
  ]
}